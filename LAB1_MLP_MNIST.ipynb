{
 "cells": [
  {
   "cell_type": "markdown",
   "metadata": {
    "id": "BzmTFNgNA-U1"
   },
   "source": [
    "# **Import Modules & Libraries**"
   ]
  },
  {
   "cell_type": "code",
   "execution_count": null,
   "metadata": {
    "id": "230STsMAVuBg"
   },
   "outputs": [],
   "source": [
    "import datetime\n",
    "import torch\n",
    "import torch.nn as nn\n",
    "import torch.nn.functional as F\n",
    "from torch.optim import Adam\n",
    "from torch.utils.data import random_split, DataLoader\n",
    "from torchvision.transforms import Compose, ToTensor, Normalize\n",
    "from torchvision.datasets import MNIST\n",
    "# Using TensorBoard in PyTorch\n",
    "from tensorflow import summary"
   ]
  },
  {
   "cell_type": "code",
   "execution_count": null,
   "metadata": {
    "id": "SBuP4VvGwRyT"
   },
   "outputs": [],
   "source": [
    "%load_ext tensorboard\n",
    "current_time = str(datetime.datetime.now().timestamp())\n",
    "train_log_dir = 'logs/tensorboard/train/' + current_time\n",
    "train_summary_writer = summary.create_file_writer(train_log_dir)"
   ]
  },
  {
   "cell_type": "markdown",
   "metadata": {
    "id": "BfayKVDnV9Fs"
   },
   "source": [
    "# **Data Preparation**"
   ]
  },
  {
   "cell_type": "code",
   "execution_count": null,
   "metadata": {
    "id": "S4my3VCgWAX5"
   },
   "outputs": [],
   "source": [
    "def prepare_data(batch_size):\n",
    "  # transform to normalize the data\n",
    "  transform = Compose([ToTensor(), Normalize((0.5,), (0.5,))])\n",
    "  \n",
    "  # Download and load the training and test datasets\n",
    "  trainset = MNIST(root='MNIST', download=True, train=True, transform=transform)\n",
    "  testset = MNIST(root='MNIST', download=True, train=False, transform=transform)\n",
    "\n",
    "  trainset_size = round(len(trainset) * 0.8)\n",
    "  validset_size = len(trainset) - trainset_size\n",
    "  trainset, validset = random_split(trainset, [trainset_size, validset_size])\n",
    "\n",
    "  train_dl = DataLoader(trainset, batch_size=batch_size, shuffle=True)\n",
    "  valid_dl = DataLoader(validset, batch_size=batch_size, shuffle=True)\n",
    "  test_dl = DataLoader(testset, batch_size=batch_size, shuffle=False)\n",
    "\n",
    "  return train_dl, valid_dl, test_dl"
   ]
  },
  {
   "cell_type": "markdown",
   "metadata": {
    "id": "-cNT1ol8Xvyi"
   },
   "source": [
    "# **Model Definition**\n",
    "\n"
   ]
  },
  {
   "cell_type": "code",
   "execution_count": null,
   "metadata": {
    "id": "goRVV0igYs7-"
   },
   "outputs": [],
   "source": [
    "class MLP(nn.Module):\n",
    "  def __init__(self, input_dim, N1, N2, output_dim):\n",
    "    super(MLP, self).__init__()\n",
    "    self.fc1 = nn.Linear(input_dim,N1)\n",
    "    self.fc2 = nn.Linear(N1, N2)\n",
    "    self.fc3 = nn.Linear(N2, output_dim)\n",
    "    self.dropout = nn.Dropout(0.2)\n",
    "    self.relu = nn.ReLU()\n",
    "  \n",
    "  def forward(self, x):\n",
    "    out=self.dropout(self.relu(self.fc1(x)))\n",
    "    out=self.dropout(self.relu(self.fc2(out)))\n",
    "    out=self.fc3(out)        \n",
    "    return out"
   ]
  },
  {
   "cell_type": "markdown",
   "metadata": {
    "id": "z9Lnr1hIJqZy"
   },
   "source": [
    "# **Mini-Batch Taining with Early Stopping**"
   ]
  },
  {
   "cell_type": "code",
   "execution_count": null,
   "metadata": {
    "id": "KfbyUTYCZfuB"
   },
   "outputs": [],
   "source": [
    "# compute the loss on validation set for early stopping\n",
    "def validation(model, device, valid_dl, criterion):\n",
    "  model.eval() # Sets the module in evaluation mode\n",
    "  loss_total = 0\n",
    "  with torch.no_grad():\n",
    "    for data in valid_dl:\n",
    "      inputs = data[0].to(device)\n",
    "      labels = data[1].to(device)\n",
    "      outputs = model(inputs.view(inputs.shape[0], -1))\n",
    "      loss = criterion(outputs, labels)\n",
    "      loss_total += loss.item()\n",
    "  \n",
    "  return loss_total / len(valid_dl)"
   ]
  },
  {
   "cell_type": "code",
   "execution_count": null,
   "metadata": {
    "id": "z8H9f77_KBZs"
   },
   "outputs": [],
   "source": [
    "# Training \n",
    "def train_model(model, device, epochs, optimizer, criterion, train_dl, valid_dl):\n",
    "  last_loss = 100; patience = 2; triggertimes = 0  \n",
    "  for epoch in range(1,epochs+1):\n",
    "    model.train() # Sets the module in traininng mode\n",
    "    for batch_idx, data in enumerate(train_dl):\n",
    "      inputs = data[0].to(device)\n",
    "      labels = data[1].to(device)\n",
    "      # Zero the gradients\n",
    "      optimizer.zero_grad()\n",
    "      # Forward and backward propagation\n",
    "      outputs = model(inputs.view(inputs.shape[0], -1))\n",
    "      loss = criterion(outputs, labels)     \n",
    "      loss.backward()\n",
    "      optimizer.step()\n",
    "      # Show progress\n",
    "      if batch_idx % 100 == 0 or batch_idx == len(train_dl):\n",
    "        print('[{}/{}, {}/{}] loss: {:.8}'.format(epoch, epochs, batch_idx, len(train_dl), loss.item()))\n",
    "    \n",
    "    with train_summary_writer.as_default():\n",
    "      summary.scalar('loss', loss.item(), step=epoch)\n",
    "\n",
    "    # Early stopping\n",
    "    current_loss = validation(model, device, valid_dl, criterion)\n",
    "    if current_loss > last_loss:\n",
    "      triggertimes += 1 \n",
    "      print('trigger times', triggertimes)       \n",
    "    if triggertimes >= patience:\n",
    "      print('Perform Early stopping!')\n",
    "      return model\n",
    "    else:\n",
    "      triggertimes = 0 \n",
    "      print('trigger times', triggertimes)          \n",
    "    last_loss = current_loss\n",
    "    \n",
    "  return model"
   ]
  },
  {
   "cell_type": "markdown",
   "metadata": {
    "id": "bqJd-5uxPGEk"
   },
   "source": [
    "# **Evaluation** \n",
    "![Logit_softmax.jfif](data:image/jpeg;base64,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)"
   ]
  },
  {
   "cell_type": "code",
   "execution_count": null,
   "metadata": {
    "id": "VGEVBT2zNuCG"
   },
   "outputs": [],
   "source": [
    "def evaluation(model, device, test_dl):\n",
    "  model.eval()\n",
    "  total = 0.0; correct = 0.0\n",
    "  with torch.no_grad():\n",
    "    for data in test_dl:\n",
    "      inputs = data[0].to(device)\n",
    "      labels = data[1].to(device)\n",
    "      outputs = model(inputs.view(inputs.shape[0], -1))\n",
    "      _, predicted = torch.max(outputs.data, 1)      \n",
    "      total += labels.size(0)\n",
    "      correct += (predicted == labels).sum().item()\n",
    "  accuracy = correct/total\n",
    "  return accuracy"
   ]
  },
  {
   "cell_type": "markdown",
   "metadata": {
    "id": "a5DiGb3FP6NR"
   },
   "source": [
    "# **Main Function**"
   ]
  },
  {
   "cell_type": "code",
   "execution_count": null,
   "metadata": {
    "colab": {
     "base_uri": "https://localhost:8080/"
    },
    "id": "kNr_lLOhLiI8",
    "outputId": "3ffaca4b-f611-4fe3-a4e2-0cf0e379c5e9"
   },
   "outputs": [
    {
     "name": "stdout",
     "output_type": "stream",
     "text": [
      "MLP(\n",
      "  (fc1): Linear(in_features=784, out_features=128, bias=True)\n",
      "  (fc2): Linear(in_features=128, out_features=64, bias=True)\n",
      "  (fc3): Linear(in_features=64, out_features=10, bias=True)\n",
      "  (dropout): Dropout(p=0.2, inplace=False)\n",
      "  (relu): ReLU()\n",
      ")\n",
      "[1/100, 0/750] loss: 2.3342626\n",
      "[1/100, 100/750] loss: 0.55659175\n",
      "[1/100, 200/750] loss: 0.52984095\n",
      "[1/100, 300/750] loss: 0.45614699\n",
      "[1/100, 400/750] loss: 0.39827213\n",
      "[1/100, 500/750] loss: 0.42078948\n",
      "[1/100, 600/750] loss: 0.26262093\n",
      "[1/100, 700/750] loss: 0.3557916\n",
      "trigger times 0\n",
      "[2/100, 0/750] loss: 0.46947822\n",
      "[2/100, 100/750] loss: 0.19050598\n",
      "[2/100, 200/750] loss: 0.30634853\n",
      "[2/100, 300/750] loss: 0.31489989\n",
      "[2/100, 400/750] loss: 0.18880095\n",
      "[2/100, 500/750] loss: 0.22509135\n",
      "[2/100, 600/750] loss: 0.21663664\n",
      "[2/100, 700/750] loss: 0.25893584\n",
      "trigger times 0\n",
      "[3/100, 0/750] loss: 0.19834882\n",
      "[3/100, 100/750] loss: 0.20614067\n",
      "[3/100, 200/750] loss: 0.2242883\n",
      "[3/100, 300/750] loss: 0.25554702\n",
      "[3/100, 400/750] loss: 0.22334039\n",
      "[3/100, 500/750] loss: 0.13085528\n",
      "[3/100, 600/750] loss: 0.24712157\n",
      "[3/100, 700/750] loss: 0.23408124\n",
      "trigger times 0\n",
      "[4/100, 0/750] loss: 0.25317934\n",
      "[4/100, 100/750] loss: 0.13398676\n",
      "[4/100, 200/750] loss: 0.20497549\n",
      "[4/100, 300/750] loss: 0.63486016\n",
      "[4/100, 400/750] loss: 0.1048127\n",
      "[4/100, 500/750] loss: 0.3299233\n",
      "[4/100, 600/750] loss: 0.30431145\n",
      "[4/100, 700/750] loss: 0.39140904\n",
      "trigger times 0\n",
      "[5/100, 0/750] loss: 0.28945237\n",
      "[5/100, 100/750] loss: 0.12922634\n",
      "[5/100, 200/750] loss: 0.17896983\n",
      "[5/100, 300/750] loss: 0.20917504\n",
      "[5/100, 400/750] loss: 0.24262668\n",
      "[5/100, 500/750] loss: 0.16211428\n",
      "[5/100, 600/750] loss: 0.19286075\n",
      "[5/100, 700/750] loss: 0.31522596\n",
      "trigger times 1\n",
      "trigger times 1\n",
      "[6/100, 0/750] loss: 0.20700641\n",
      "[6/100, 100/750] loss: 0.10993268\n",
      "[6/100, 200/750] loss: 0.17930816\n",
      "[6/100, 300/750] loss: 0.26268274\n",
      "[6/100, 400/750] loss: 0.085906655\n",
      "[6/100, 500/750] loss: 0.25456005\n",
      "[6/100, 600/750] loss: 0.14709829\n",
      "[6/100, 700/750] loss: 0.25847515\n",
      "trigger times 1\n",
      "[7/100, 0/750] loss: 0.25784898\n",
      "[7/100, 100/750] loss: 0.079576276\n",
      "[7/100, 200/750] loss: 0.138926\n",
      "[7/100, 300/750] loss: 0.1546497\n",
      "[7/100, 400/750] loss: 0.15812036\n",
      "[7/100, 500/750] loss: 0.085513912\n",
      "[7/100, 600/750] loss: 0.068360344\n",
      "[7/100, 700/750] loss: 0.12517704\n",
      "trigger times 1\n",
      "[8/100, 0/750] loss: 0.34614849\n",
      "[8/100, 100/750] loss: 0.085563295\n",
      "[8/100, 200/750] loss: 0.22020054\n",
      "[8/100, 300/750] loss: 0.22030233\n",
      "[8/100, 400/750] loss: 0.25332826\n",
      "[8/100, 500/750] loss: 0.17921567\n",
      "[8/100, 600/750] loss: 0.13891354\n",
      "[8/100, 700/750] loss: 0.18368913\n",
      "trigger times 2\n",
      "Perform Early stopping!\n",
      "Accuracy 0.9624\n"
     ]
    }
   ],
   "source": [
    "def main(epochs=100, batch_size=64, lr=0.002):  \n",
    "  device = torch.device('cuda' if torch.cuda.is_available() else 'cpu')\n",
    "  criterion = nn.CrossEntropyLoss()\n",
    "  model = MLP(784, 128, 64, 10)\n",
    "  model = model.to(device) # Move model before creating optimizer\n",
    "  print(model)\n",
    "  optimizer = Adam(model.parameters(), lr=lr)\n",
    "  # Data Preparation\n",
    "  train_dl, valid_dl, test_dl = prepare_data(batch_size)\n",
    "  # Training\n",
    "  model = train_model(model, device, epochs, optimizer, criterion, train_dl, valid_dl)\n",
    "  # Evaluation\n",
    "  acc = evaluation(model, device, test_dl)\n",
    "  print('Accuracy', acc)\n",
    "  torch.save(model.state_dict(),\"mnist_mlp.pt\")\n",
    "\n",
    "if __name__ == '__main__':\n",
    "  main()"
   ]
  },
  {
   "cell_type": "code",
   "execution_count": null,
   "metadata": {
    "colab": {
     "base_uri": "https://localhost:8080/",
     "height": 821
    },
    "id": "vrFBJvGgnmjt",
    "outputId": "a82c4ec9-5d21-4a1f-8c0a-f0cdd54e98dd"
   },
   "outputs": [
    {
     "data": {
      "application/javascript": [
       "\n",
       "        (async () => {\n",
       "            const url = new URL(await google.colab.kernel.proxyPort(6006, {'cache': true}));\n",
       "            url.searchParams.set('tensorboardColab', 'true');\n",
       "            const iframe = document.createElement('iframe');\n",
       "            iframe.src = url;\n",
       "            iframe.setAttribute('width', '100%');\n",
       "            iframe.setAttribute('height', '800');\n",
       "            iframe.setAttribute('frameborder', 0);\n",
       "            document.body.appendChild(iframe);\n",
       "        })();\n",
       "    "
      ],
      "text/plain": [
       "<IPython.core.display.Javascript object>"
      ]
     },
     "metadata": {},
     "output_type": "display_data"
    }
   ],
   "source": [
    "%tensorboard --logdir logs/tensorboard"
   ]
  }
 ],
 "metadata": {
  "accelerator": "GPU",
  "colab": {
   "provenance": []
  },
  "gpuClass": "standard",
  "kernelspec": {
   "display_name": "Python 3 (ipykernel)",
   "language": "python",
   "name": "python3"
  },
  "language_info": {
   "codemirror_mode": {
    "name": "ipython",
    "version": 3
   },
   "file_extension": ".py",
   "mimetype": "text/x-python",
   "name": "python",
   "nbconvert_exporter": "python",
   "pygments_lexer": "ipython3",
   "version": "3.9.15"
  }
 },
 "nbformat": 4,
 "nbformat_minor": 1
}
