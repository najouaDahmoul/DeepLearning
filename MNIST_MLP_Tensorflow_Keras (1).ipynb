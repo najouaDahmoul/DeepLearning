{
  "cells": [
    {
      "cell_type": "code",
      "execution_count": 1,
      "metadata": {
        "id": "T2VeIn0gaBYT"
      },
      "outputs": [],
      "source": [
        "import tensorflow as tf\n",
        "import tensorflow_datasets as tfds\n",
        "import numpy as np\n",
        "from tensorflow.keras.models import Sequential\n",
        "from tensorflow.keras.layers import Dense, Activation, Dropout\n",
        "from tensorflow.keras.utils import to_categorical, plot_model\n",
        "from tensorflow.keras.datasets import mnist\n"
      ]
    },
    {
      "cell_type": "markdown",
      "metadata": {
        "id": "3FJ59aKVaOcb"
      },
      "source": [
        "Load train, test sets from **MNIST** dataset"
      ]
    },
    {
      "cell_type": "code",
      "execution_count": 2,
      "metadata": {
        "id": "jQCi1sl4aFWi",
        "colab": {
          "base_uri": "https://localhost:8080/"
        },
        "outputId": "cb655279-b928-40fc-e9fe-54895efdd313"
      },
      "outputs": [
        {
          "output_type": "stream",
          "name": "stdout",
          "text": [
            "Downloading data from https://storage.googleapis.com/tensorflow/tf-keras-datasets/mnist.npz\n",
            "11490434/11490434 [==============================] - 0s 0us/step\n"
          ]
        }
      ],
      "source": [
        "\n",
        "# load mnist dataset\n",
        "(x_train, y_train), (x_test, y_test) = mnist.load_data()\n"
      ]
    },
    {
      "cell_type": "markdown",
      "metadata": {
        "id": "UuU1ibE6a6Ct"
      },
      "source": [
        "Data Preparation"
      ]
    },
    {
      "cell_type": "code",
      "execution_count": 3,
      "metadata": {
        "id": "bu1TEPJzaas5"
      },
      "outputs": [],
      "source": [
        "# compute the number of labels\n",
        "num_labels = len(np.unique(y_train))\n",
        "\n",
        "# convert to one-hot vector\n",
        "y_train = to_categorical(y_train)\n",
        "y_test = to_categorical(y_test)\n",
        "\n",
        "# image dimensions (assumed square)\n",
        "image_size = x_train.shape[1]\n",
        "input_size = image_size * image_size\n",
        "\n",
        "# resize and normalize\n",
        "x_train = np.reshape(x_train, [-1, input_size])\n",
        "x_train = x_train.astype('float32') / 255\n",
        "x_test = np.reshape(x_test, [-1, input_size])\n",
        "x_test = x_test.astype('float32') / 255\n",
        "\n",
        "# network parameters\n",
        "batch_size = 128"
      ]
    },
    {
      "cell_type": "markdown",
      "metadata": {
        "id": "bU3n68MNcKTU"
      },
      "source": [
        "Create and train model "
      ]
    },
    {
      "cell_type": "code",
      "execution_count": 4,
      "metadata": {
        "colab": {
          "base_uri": "https://localhost:8080/"
        },
        "id": "fR5szZYDcJmb",
        "outputId": "8c9dc49a-429f-413e-f0a2-bf7dcd95819e"
      },
      "outputs": [
        {
          "output_type": "stream",
          "name": "stdout",
          "text": [
            "Model: \"sequential\"\n",
            "_________________________________________________________________\n",
            " Layer (type)                Output Shape              Param #   \n",
            "=================================================================\n",
            " dense (Dense)               (None, 128)               100480    \n",
            "                                                                 \n",
            " dense_1 (Dense)             (None, 64)                8256      \n",
            "                                                                 \n",
            " dense_2 (Dense)             (None, 10)                650       \n",
            "                                                                 \n",
            "=================================================================\n",
            "Total params: 109,386\n",
            "Trainable params: 109,386\n",
            "Non-trainable params: 0\n",
            "_________________________________________________________________\n",
            "Epoch 1/100\n",
            "469/469 [==============================] - 4s 3ms/step - loss: 0.3332 - accuracy: 0.9052\n",
            "Epoch 2/100\n",
            "469/469 [==============================] - 1s 3ms/step - loss: 0.1381 - accuracy: 0.9600\n",
            "Epoch 3/100\n",
            "469/469 [==============================] - 1s 3ms/step - loss: 0.0992 - accuracy: 0.9697\n",
            "Epoch 4/100\n",
            "469/469 [==============================] - 1s 3ms/step - loss: 0.0747 - accuracy: 0.9772\n",
            "Epoch 5/100\n",
            "469/469 [==============================] - 1s 3ms/step - loss: 0.0588 - accuracy: 0.9817\n",
            "Epoch 6/100\n",
            "469/469 [==============================] - 1s 3ms/step - loss: 0.0459 - accuracy: 0.9862\n",
            "Epoch 7/100\n",
            "469/469 [==============================] - 1s 3ms/step - loss: 0.0388 - accuracy: 0.9876\n",
            "Epoch 8/100\n",
            "469/469 [==============================] - 1s 3ms/step - loss: 0.0308 - accuracy: 0.9903\n",
            "Epoch 9/100\n",
            "469/469 [==============================] - 1s 3ms/step - loss: 0.0259 - accuracy: 0.9920\n",
            "Epoch 10/100\n",
            "469/469 [==============================] - 1s 3ms/step - loss: 0.0201 - accuracy: 0.9940\n",
            "Epoch 11/100\n",
            "469/469 [==============================] - 1s 3ms/step - loss: 0.0165 - accuracy: 0.9952\n",
            "Epoch 12/100\n",
            "469/469 [==============================] - 1s 3ms/step - loss: 0.0156 - accuracy: 0.9951\n",
            "Epoch 13/100\n",
            "469/469 [==============================] - 1s 3ms/step - loss: 0.0155 - accuracy: 0.9954\n",
            "Epoch 14/100\n",
            "469/469 [==============================] - 1s 3ms/step - loss: 0.0133 - accuracy: 0.9956\n",
            "Epoch 15/100\n",
            "469/469 [==============================] - 1s 3ms/step - loss: 0.0111 - accuracy: 0.9966\n",
            "Epoch 16/100\n",
            "469/469 [==============================] - 1s 3ms/step - loss: 0.0087 - accuracy: 0.9971\n",
            "Epoch 17/100\n",
            "469/469 [==============================] - 1s 3ms/step - loss: 0.0084 - accuracy: 0.9976\n",
            "Epoch 18/100\n",
            "469/469 [==============================] - 1s 3ms/step - loss: 0.0109 - accuracy: 0.9963\n",
            "Epoch 19/100\n",
            "469/469 [==============================] - 1s 3ms/step - loss: 0.0102 - accuracy: 0.9966\n",
            "Epoch 20/100\n",
            "469/469 [==============================] - 1s 3ms/step - loss: 0.0062 - accuracy: 0.9980\n",
            "Epoch 21/100\n",
            "469/469 [==============================] - 1s 3ms/step - loss: 0.0121 - accuracy: 0.9956\n",
            "Epoch 22/100\n",
            "469/469 [==============================] - 1s 3ms/step - loss: 0.0053 - accuracy: 0.9983\n",
            "Epoch 23/100\n",
            "469/469 [==============================] - 1s 3ms/step - loss: 0.0055 - accuracy: 0.9982\n",
            "Epoch 24/100\n",
            "469/469 [==============================] - 1s 3ms/step - loss: 0.0048 - accuracy: 0.9986\n",
            "Epoch 25/100\n",
            "469/469 [==============================] - 1s 3ms/step - loss: 0.0085 - accuracy: 0.9970\n",
            "Epoch 26/100\n",
            "469/469 [==============================] - 1s 3ms/step - loss: 0.0057 - accuracy: 0.9981\n",
            "Epoch 27/100\n",
            "469/469 [==============================] - 1s 3ms/step - loss: 0.0057 - accuracy: 0.9982\n"
          ]
        },
        {
          "output_type": "execute_result",
          "data": {
            "text/plain": [
              "<keras.callbacks.History at 0x7fd04009b610>"
            ]
          },
          "metadata": {},
          "execution_count": 4
        }
      ],
      "source": [
        "model = Sequential()\n",
        "model.add(Dense(128, input_dim=input_size, activation='relu'))\n",
        "model.add(Dense(64, input_dim=128, activation='relu'))\n",
        "model.add(Dense(10, activation='softmax'))\n",
        "model.summary()\n",
        "# loss function for one-hot vector\n",
        "# use of adam optimizer\n",
        "# accuracy is good metric for classification tasks\n",
        "model.compile(loss='categorical_crossentropy',\n",
        "              optimizer='adam',\n",
        "              metrics=['accuracy'])\n",
        "# add earlystopping \n",
        "callback = tf.keras.callbacks.EarlyStopping(monitor='loss', patience=3)\n",
        "# train the network\n",
        "model.fit(x_train, y_train, epochs=100, batch_size=batch_size,callbacks=[callback])"
      ]
    },
    {
      "cell_type": "code",
      "execution_count": 5,
      "metadata": {
        "colab": {
          "base_uri": "https://localhost:8080/"
        },
        "id": "xARV5Xftd8OO",
        "outputId": "da38ff05-ad71-4068-c96d-547ac95d13e9"
      },
      "outputs": [
        {
          "output_type": "stream",
          "name": "stdout",
          "text": [
            "\n",
            "Test accuracy: 98.0%\n"
          ]
        }
      ],
      "source": [
        "# validate the model on test dataset to determine generalization\n",
        "_, acc = model.evaluate(x_test,\n",
        "                        y_test,\n",
        "                        batch_size=batch_size,\n",
        "                        verbose=0)\n",
        "print(\"\\nTest accuracy: %.1f%%\" % (100.0 * acc))"
      ]
    },
    {
      "cell_type": "code",
      "source": [],
      "metadata": {
        "id": "NDHZGY5PKz5W"
      },
      "execution_count": null,
      "outputs": []
    }
  ],
  "metadata": {
    "accelerator": "GPU",
    "colab": {
      "provenance": []
    },
    "gpuClass": "standard",
    "kernelspec": {
      "display_name": "Python 3 (ipykernel)",
      "language": "python",
      "name": "python3"
    },
    "language_info": {
      "codemirror_mode": {
        "name": "ipython",
        "version": 3
      },
      "file_extension": ".py",
      "mimetype": "text/x-python",
      "name": "python",
      "nbconvert_exporter": "python",
      "pygments_lexer": "ipython3",
      "version": "3.9.12"
    }
  },
  "nbformat": 4,
  "nbformat_minor": 0
}