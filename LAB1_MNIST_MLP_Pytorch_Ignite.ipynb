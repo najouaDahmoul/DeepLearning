{
  "nbformat": 4,
  "nbformat_minor": 0,
  "metadata": {
    "colab": {
      "provenance": []
    },
    "kernelspec": {
      "name": "python3",
      "display_name": "Python 3"
    },
    "language_info": {
      "name": "python"
    },
    "accelerator": "GPU",
    "gpuClass": "standard"
  },
  "cells": [
    {
      "cell_type": "markdown",
      "source": [
        "# **Import Modules & Libraries**"
      ],
      "metadata": {
        "id": "7ROEe5q04KUQ"
      }
    },
    {
      "cell_type": "code",
      "source": [
        "#!pip install pytorch-ignite"
      ],
      "metadata": {
        "id": "cv6VXqh2-lib"
      },
      "execution_count": 1,
      "outputs": []
    },
    {
      "cell_type": "code",
      "execution_count": 2,
      "metadata": {
        "id": "A4yofAW33ee5"
      },
      "outputs": [],
      "source": [
        "import torch\n",
        "import torch.nn.functional as F\n",
        "from torch import nn\n",
        "from torch.optim import Adam\n",
        "from torch.utils.data import DataLoader, random_split\n",
        "from torchvision.datasets import MNIST\n",
        "from torchvision.transforms import Compose, Normalize, ToTensor\n",
        "\n",
        "from ignite.engine import Engine, Events\n",
        "from ignite.utils import setup_logger"
      ]
    },
    {
      "cell_type": "markdown",
      "source": [
        "# **Model Definition**"
      ],
      "metadata": {
        "id": "OQ6vub1X4CHq"
      }
    },
    {
      "cell_type": "code",
      "source": [
        "class MLP(nn.Module):\n",
        "  def __init__(self, input_dim, N1, N2, output_dim):\n",
        "    super(MLP, self).__init__()\n",
        "    self.fc1 = nn.Linear(input_dim,N1)\n",
        "    self.fc2 = nn.Linear(N1, N2)\n",
        "    self.fc3 = nn.Linear(N2, output_dim)\n",
        "    self.dropout = nn.Dropout(0.2)\n",
        "    self.relu = nn.ReLU()\n",
        "  \n",
        "  def forward(self, x):\n",
        "    out=self.dropout(self.relu(self.fc1(x)))\n",
        "    out=self.dropout(self.relu(self.fc2(out)))\n",
        "    out=self.fc3(out)        \n",
        "    return out"
      ],
      "metadata": {
        "id": "tU9ojrlG3mCp"
      },
      "execution_count": 3,
      "outputs": []
    },
    {
      "cell_type": "markdown",
      "source": [
        "# **Data Preparation**"
      ],
      "metadata": {
        "id": "4S0v1z-x4r6D"
      }
    },
    {
      "cell_type": "code",
      "source": [
        "def prepare_data(batch_size):\n",
        "  # transform to normalize the data\n",
        "  transform = Compose([ToTensor(), Normalize((0.5,), (0.5,))])\n",
        "  \n",
        "  # Download and load the training and test datasets\n",
        "  trainset = MNIST(root='MNIST', download=True, train=True, transform=transform)\n",
        "  testset = MNIST(root='MNIST', download=True, train=False, transform=transform)\n",
        "\n",
        "  trainset_size = round(len(trainset) * 0.8)\n",
        "  validset_size = len(trainset) - trainset_size\n",
        "  trainset, validset = random_split(trainset, [trainset_size, validset_size])\n",
        "\n",
        "  train_dl = DataLoader(trainset, batch_size=batch_size, shuffle=True)\n",
        "  valid_dl = DataLoader(validset, batch_size=batch_size, shuffle=True)\n",
        "  test_dl = DataLoader(testset, batch_size=batch_size, shuffle=False)\n",
        "\n",
        "  return train_dl, valid_dl, test_dl"
      ],
      "metadata": {
        "id": "ah7Zc__x4zF9"
      },
      "execution_count": 4,
      "outputs": []
    },
    {
      "cell_type": "markdown",
      "source": [
        "# **Setting**"
      ],
      "metadata": {
        "id": "viO-tTsrEf3V"
      }
    },
    {
      "cell_type": "code",
      "source": [
        "device = torch.device('cuda' if torch.cuda.is_available() else 'cpu')\n",
        "model = MLP(784, 128, 64, 10)\n",
        "model.to(device)  # Move model before creating optimizer\n",
        "print(model)\n",
        "optimizer = Adam(model.parameters(), lr=0.002)\n",
        "criterion = nn.CrossEntropyLoss()"
      ],
      "metadata": {
        "colab": {
          "base_uri": "https://localhost:8080/"
        },
        "id": "E4RNGfdoEgRE",
        "outputId": "d39c798f-9d6e-4e8c-c76f-b32f34575736"
      },
      "execution_count": 5,
      "outputs": [
        {
          "output_type": "stream",
          "name": "stdout",
          "text": [
            "MLP(\n",
            "  (fc1): Linear(in_features=784, out_features=128, bias=True)\n",
            "  (fc2): Linear(in_features=128, out_features=64, bias=True)\n",
            "  (fc3): Linear(in_features=64, out_features=10, bias=True)\n",
            "  (dropout): Dropout(p=0.2, inplace=False)\n",
            "  (relu): ReLU()\n",
            ")\n"
          ]
        }
      ]
    },
    {
      "cell_type": "markdown",
      "source": [
        "# **Training**"
      ],
      "metadata": {
        "id": "ST1UzLPP5YKs"
      }
    },
    {
      "cell_type": "code",
      "source": [
        "def train_step(engine, batch):\n",
        "  model.train()\n",
        "  optimizer.zero_grad()\n",
        "  x, y = batch[0].to(device), batch[1].to(device)\n",
        "  y_pred = model(x.view(x.shape[0], -1))\n",
        "  loss = criterion(y_pred, y)\n",
        "  loss.backward()\n",
        "  optimizer.step()\n",
        "  return loss.item()\n",
        "\n",
        "def validation_step(engine, batch):\n",
        "  model.eval()\n",
        "  with torch.no_grad():\n",
        "    inputs = batch[0].to(device)\n",
        "    labels = batch[1].to(device)\n",
        "    outputs = model(inputs.view(inputs.shape[0], -1))\n",
        "    _,predicted = torch.max(outputs.data, 1)      \n",
        "    accuracy = (predicted == labels).sum().item()/labels.size(0)\n",
        "  return accuracy"
      ],
      "metadata": {
        "id": "2kNw26rrCacm"
      },
      "execution_count": 6,
      "outputs": []
    },
    {
      "cell_type": "code",
      "source": [
        "def run(model, device, optimizer, criterion, epochs, train_dl, valid_dl):\n",
        "\n",
        "  # Trainer\n",
        "  trainer = Engine(train_step)\n",
        "  trainer.logger = setup_logger(\"trainer\")\n",
        "\n",
        "  # Evaluator\n",
        "  Evaluator = Engine(validation_step)\n",
        "  Evaluator.logger = setup_logger(\"Evaluator\")\n",
        "  \n",
        "  @trainer.on(Events.ITERATION_COMPLETED(every=100))\n",
        "  def log_training_loss(engine):\n",
        "    print(f\"ITERATION - Loss: {engine.state.output:.2f}\")\n",
        "        \n",
        "  @trainer.on(Events.EPOCH_COMPLETED)\n",
        "  def log_training_results(engine):\n",
        "    Evaluator.run(train_dl)\n",
        "    print(f\"Training Results - Epoch: {trainer.state.epoch} Accuracy: {Evaluator.state.output:.2f}\")\n",
        "\n",
        "  @trainer.on(Events.EPOCH_COMPLETED)\n",
        "  def log_validation_results(engine):\n",
        "    Evaluator.run(valid_dl)\n",
        "    print(f\"Validation Results - Epoch: {trainer.state.epoch} Accuracy: {Evaluator.state.output:.2f}\")\n",
        "\n",
        "  @trainer.on(Events.EPOCH_COMPLETED | Events.COMPLETED)\n",
        "  def log_time(engine):\n",
        "    print(f\"{trainer.last_event_name.name} took { trainer.state.times[trainer.last_event_name.name]} seconds\")\n",
        "\n",
        "  trainer.run(train_dl, max_epochs=epochs)"
      ],
      "metadata": {
        "id": "SZYvFipKE4cf"
      },
      "execution_count": 7,
      "outputs": []
    },
    {
      "cell_type": "code",
      "source": [
        "if __name__ == \"__main__\":\n",
        "  # Data Preparation\n",
        "  train_dl, valid_dl, test_dl = prepare_data(batch_size=64)\n",
        "\n",
        "  run(model, device, optimizer, criterion, 10, train_dl, valid_dl)"
      ],
      "metadata": {
        "colab": {
          "base_uri": "https://localhost:8080/"
        },
        "id": "a_GPi5FD5en1",
        "outputId": "73a38ab6-d362-4923-f47a-6a03d9f02573"
      },
      "execution_count": 8,
      "outputs": [
        {
          "output_type": "stream",
          "name": "stderr",
          "text": [
            "2022-11-11 02:00:59,390 trainer INFO: Engine run starting with max_epochs=10.\n"
          ]
        },
        {
          "output_type": "stream",
          "name": "stdout",
          "text": [
            "ITERATION - Loss: 0.46\n",
            "ITERATION - Loss: 0.38\n",
            "ITERATION - Loss: 0.61\n",
            "ITERATION - Loss: 0.29\n",
            "ITERATION - Loss: 0.44\n",
            "ITERATION - Loss: 0.44\n",
            "ITERATION - Loss: 0.51\n"
          ]
        },
        {
          "output_type": "stream",
          "name": "stderr",
          "text": [
            "2022-11-11 02:01:11,727 Evaluator INFO: Engine run starting with max_epochs=1.\n",
            "2022-11-11 02:01:19,327 Evaluator INFO: Epoch[1] Complete. Time taken: 00:00:07.599\n",
            "2022-11-11 02:01:19,329 Evaluator INFO: Engine run complete. Time taken: 00:00:07.601\n",
            "2022-11-11 02:01:19,332 Evaluator INFO: Engine run starting with max_epochs=1.\n"
          ]
        },
        {
          "output_type": "stream",
          "name": "stdout",
          "text": [
            "Training Results - Epoch: 1 Accuracy: 0.86\n"
          ]
        },
        {
          "output_type": "stream",
          "name": "stderr",
          "text": [
            "2022-11-11 02:01:21,264 Evaluator INFO: Epoch[1] Complete. Time taken: 00:00:01.928\n",
            "2022-11-11 02:01:21,266 Evaluator INFO: Engine run complete. Time taken: 00:00:01.929\n",
            "2022-11-11 02:01:21,269 trainer INFO: Epoch[1] Complete. Time taken: 00:00:21.874\n"
          ]
        },
        {
          "output_type": "stream",
          "name": "stdout",
          "text": [
            "Validation Results - Epoch: 1 Accuracy: 0.97\n",
            "EPOCH_COMPLETED took 12.332470893859863 seconds\n",
            "ITERATION - Loss: 0.27\n",
            "ITERATION - Loss: 0.22\n",
            "ITERATION - Loss: 0.56\n",
            "ITERATION - Loss: 0.31\n",
            "ITERATION - Loss: 0.19\n",
            "ITERATION - Loss: 0.33\n",
            "ITERATION - Loss: 0.16\n"
          ]
        },
        {
          "output_type": "stream",
          "name": "stderr",
          "text": [
            "2022-11-11 02:01:30,105 Evaluator INFO: Engine run starting with max_epochs=1.\n"
          ]
        },
        {
          "output_type": "stream",
          "name": "stdout",
          "text": [
            "ITERATION - Loss: 0.26\n"
          ]
        },
        {
          "output_type": "stream",
          "name": "stderr",
          "text": [
            "2022-11-11 02:01:37,971 Evaluator INFO: Epoch[1] Complete. Time taken: 00:00:07.863\n",
            "2022-11-11 02:01:37,973 Evaluator INFO: Engine run complete. Time taken: 00:00:07.865\n",
            "2022-11-11 02:01:37,981 Evaluator INFO: Engine run starting with max_epochs=1.\n"
          ]
        },
        {
          "output_type": "stream",
          "name": "stdout",
          "text": [
            "Training Results - Epoch: 2 Accuracy: 0.97\n"
          ]
        },
        {
          "output_type": "stream",
          "name": "stderr",
          "text": [
            "2022-11-11 02:01:39,908 Evaluator INFO: Epoch[1] Complete. Time taken: 00:00:01.926\n",
            "2022-11-11 02:01:39,910 Evaluator INFO: Engine run complete. Time taken: 00:00:01.928\n",
            "2022-11-11 02:01:39,916 trainer INFO: Epoch[2] Complete. Time taken: 00:00:18.645\n"
          ]
        },
        {
          "output_type": "stream",
          "name": "stdout",
          "text": [
            "Validation Results - Epoch: 2 Accuracy: 0.97\n",
            "EPOCH_COMPLETED took 8.833948373794556 seconds\n",
            "ITERATION - Loss: 0.21\n",
            "ITERATION - Loss: 0.26\n",
            "ITERATION - Loss: 0.18\n",
            "ITERATION - Loss: 0.24\n",
            "ITERATION - Loss: 0.19\n",
            "ITERATION - Loss: 0.30\n",
            "ITERATION - Loss: 0.48\n"
          ]
        },
        {
          "output_type": "stream",
          "name": "stderr",
          "text": [
            "2022-11-11 02:01:48,846 Evaluator INFO: Engine run starting with max_epochs=1.\n",
            "2022-11-11 02:01:56,547 Evaluator INFO: Epoch[1] Complete. Time taken: 00:00:07.700\n",
            "2022-11-11 02:01:56,549 Evaluator INFO: Engine run complete. Time taken: 00:00:07.701\n",
            "2022-11-11 02:01:56,556 Evaluator INFO: Engine run starting with max_epochs=1.\n"
          ]
        },
        {
          "output_type": "stream",
          "name": "stdout",
          "text": [
            "Training Results - Epoch: 3 Accuracy: 0.97\n"
          ]
        },
        {
          "output_type": "stream",
          "name": "stderr",
          "text": [
            "2022-11-11 02:01:58,725 Evaluator INFO: Epoch[1] Complete. Time taken: 00:00:02.167\n",
            "2022-11-11 02:01:58,727 Evaluator INFO: Engine run complete. Time taken: 00:00:02.170\n",
            "2022-11-11 02:01:58,731 trainer INFO: Epoch[3] Complete. Time taken: 00:00:18.814\n"
          ]
        },
        {
          "output_type": "stream",
          "name": "stdout",
          "text": [
            "Validation Results - Epoch: 3 Accuracy: 1.00\n",
            "EPOCH_COMPLETED took 8.928982973098755 seconds\n",
            "ITERATION - Loss: 0.15\n",
            "ITERATION - Loss: 0.44\n",
            "ITERATION - Loss: 0.12\n",
            "ITERATION - Loss: 0.11\n",
            "ITERATION - Loss: 0.04\n",
            "ITERATION - Loss: 0.16\n",
            "ITERATION - Loss: 0.15\n"
          ]
        },
        {
          "output_type": "stream",
          "name": "stderr",
          "text": [
            "2022-11-11 02:02:07,542 Evaluator INFO: Engine run starting with max_epochs=1.\n"
          ]
        },
        {
          "output_type": "stream",
          "name": "stdout",
          "text": [
            "ITERATION - Loss: 0.11\n"
          ]
        },
        {
          "output_type": "stream",
          "name": "stderr",
          "text": [
            "2022-11-11 02:02:15,167 Evaluator INFO: Epoch[1] Complete. Time taken: 00:00:07.623\n",
            "2022-11-11 02:02:15,168 Evaluator INFO: Engine run complete. Time taken: 00:00:07.625\n",
            "2022-11-11 02:02:15,171 Evaluator INFO: Engine run starting with max_epochs=1.\n"
          ]
        },
        {
          "output_type": "stream",
          "name": "stdout",
          "text": [
            "Training Results - Epoch: 4 Accuracy: 0.94\n"
          ]
        },
        {
          "output_type": "stream",
          "name": "stderr",
          "text": [
            "2022-11-11 02:02:17,142 Evaluator INFO: Epoch[1] Complete. Time taken: 00:00:01.968\n",
            "2022-11-11 02:02:17,144 Evaluator INFO: Engine run complete. Time taken: 00:00:01.969\n",
            "2022-11-11 02:02:17,148 trainer INFO: Epoch[4] Complete. Time taken: 00:00:18.414\n"
          ]
        },
        {
          "output_type": "stream",
          "name": "stdout",
          "text": [
            "Validation Results - Epoch: 4 Accuracy: 0.91\n",
            "EPOCH_COMPLETED took 8.80800986289978 seconds\n",
            "ITERATION - Loss: 0.18\n",
            "ITERATION - Loss: 0.28\n",
            "ITERATION - Loss: 0.11\n",
            "ITERATION - Loss: 0.15\n",
            "ITERATION - Loss: 0.10\n",
            "ITERATION - Loss: 0.14\n",
            "ITERATION - Loss: 0.18\n"
          ]
        },
        {
          "output_type": "stream",
          "name": "stderr",
          "text": [
            "2022-11-11 02:02:25,918 Evaluator INFO: Engine run starting with max_epochs=1.\n",
            "2022-11-11 02:02:33,761 Evaluator INFO: Epoch[1] Complete. Time taken: 00:00:07.841\n",
            "2022-11-11 02:02:33,762 Evaluator INFO: Engine run complete. Time taken: 00:00:07.843\n",
            "2022-11-11 02:02:33,767 Evaluator INFO: Engine run starting with max_epochs=1.\n"
          ]
        },
        {
          "output_type": "stream",
          "name": "stdout",
          "text": [
            "Training Results - Epoch: 5 Accuracy: 0.97\n"
          ]
        },
        {
          "output_type": "stream",
          "name": "stderr",
          "text": [
            "2022-11-11 02:02:35,694 Evaluator INFO: Epoch[1] Complete. Time taken: 00:00:01.925\n",
            "2022-11-11 02:02:35,695 Evaluator INFO: Engine run complete. Time taken: 00:00:01.927\n",
            "2022-11-11 02:02:35,700 trainer INFO: Epoch[5] Complete. Time taken: 00:00:18.547\n"
          ]
        },
        {
          "output_type": "stream",
          "name": "stdout",
          "text": [
            "Validation Results - Epoch: 5 Accuracy: 0.97\n",
            "EPOCH_COMPLETED took 8.765852451324463 seconds\n",
            "ITERATION - Loss: 0.17\n",
            "ITERATION - Loss: 0.07\n",
            "ITERATION - Loss: 0.18\n",
            "ITERATION - Loss: 0.13\n",
            "ITERATION - Loss: 0.05\n",
            "ITERATION - Loss: 0.22\n",
            "ITERATION - Loss: 0.46\n"
          ]
        },
        {
          "output_type": "stream",
          "name": "stderr",
          "text": [
            "2022-11-11 02:02:44,415 Evaluator INFO: Engine run starting with max_epochs=1.\n"
          ]
        },
        {
          "output_type": "stream",
          "name": "stdout",
          "text": [
            "ITERATION - Loss: 0.45\n"
          ]
        },
        {
          "output_type": "stream",
          "name": "stderr",
          "text": [
            "2022-11-11 02:02:52,072 Evaluator INFO: Epoch[1] Complete. Time taken: 00:00:07.652\n",
            "2022-11-11 02:02:52,074 Evaluator INFO: Engine run complete. Time taken: 00:00:07.655\n",
            "2022-11-11 02:02:52,079 Evaluator INFO: Engine run starting with max_epochs=1.\n"
          ]
        },
        {
          "output_type": "stream",
          "name": "stdout",
          "text": [
            "Training Results - Epoch: 6 Accuracy: 0.94\n"
          ]
        },
        {
          "output_type": "stream",
          "name": "stderr",
          "text": [
            "2022-11-11 02:02:54,008 Evaluator INFO: Epoch[1] Complete. Time taken: 00:00:01.927\n",
            "2022-11-11 02:02:54,009 Evaluator INFO: Engine run complete. Time taken: 00:00:01.928\n",
            "2022-11-11 02:02:54,016 trainer INFO: Epoch[6] Complete. Time taken: 00:00:18.312\n"
          ]
        },
        {
          "output_type": "stream",
          "name": "stdout",
          "text": [
            "Validation Results - Epoch: 6 Accuracy: 0.94\n",
            "EPOCH_COMPLETED took 8.710389614105225 seconds\n",
            "ITERATION - Loss: 0.20\n",
            "ITERATION - Loss: 0.13\n",
            "ITERATION - Loss: 0.15\n",
            "ITERATION - Loss: 0.21\n",
            "ITERATION - Loss: 0.08\n",
            "ITERATION - Loss: 0.37\n",
            "ITERATION - Loss: 0.22\n"
          ]
        },
        {
          "output_type": "stream",
          "name": "stderr",
          "text": [
            "2022-11-11 02:03:02,971 Evaluator INFO: Engine run starting with max_epochs=1.\n",
            "2022-11-11 02:03:10,652 Evaluator INFO: Epoch[1] Complete. Time taken: 00:00:07.679\n",
            "2022-11-11 02:03:10,654 Evaluator INFO: Engine run complete. Time taken: 00:00:07.681\n",
            "2022-11-11 02:03:10,660 Evaluator INFO: Engine run starting with max_epochs=1.\n"
          ]
        },
        {
          "output_type": "stream",
          "name": "stdout",
          "text": [
            "Training Results - Epoch: 7 Accuracy: 0.98\n"
          ]
        },
        {
          "output_type": "stream",
          "name": "stderr",
          "text": [
            "2022-11-11 02:03:12,619 Evaluator INFO: Epoch[1] Complete. Time taken: 00:00:01.957\n",
            "2022-11-11 02:03:12,621 Evaluator INFO: Engine run complete. Time taken: 00:00:01.958\n",
            "2022-11-11 02:03:12,625 trainer INFO: Epoch[7] Complete. Time taken: 00:00:18.604\n"
          ]
        },
        {
          "output_type": "stream",
          "name": "stdout",
          "text": [
            "Validation Results - Epoch: 7 Accuracy: 0.97\n",
            "EPOCH_COMPLETED took 8.95023775100708 seconds\n",
            "ITERATION - Loss: 0.11\n",
            "ITERATION - Loss: 0.46\n",
            "ITERATION - Loss: 0.21\n",
            "ITERATION - Loss: 0.23\n",
            "ITERATION - Loss: 0.13\n",
            "ITERATION - Loss: 0.17\n",
            "ITERATION - Loss: 0.18\n"
          ]
        },
        {
          "output_type": "stream",
          "name": "stderr",
          "text": [
            "2022-11-11 02:03:21,473 Evaluator INFO: Engine run starting with max_epochs=1.\n"
          ]
        },
        {
          "output_type": "stream",
          "name": "stdout",
          "text": [
            "ITERATION - Loss: 0.12\n"
          ]
        },
        {
          "output_type": "stream",
          "name": "stderr",
          "text": [
            "2022-11-11 02:03:29,114 Evaluator INFO: Epoch[1] Complete. Time taken: 00:00:07.639\n",
            "2022-11-11 02:03:29,115 Evaluator INFO: Engine run complete. Time taken: 00:00:07.641\n",
            "2022-11-11 02:03:29,121 Evaluator INFO: Engine run starting with max_epochs=1.\n"
          ]
        },
        {
          "output_type": "stream",
          "name": "stdout",
          "text": [
            "Training Results - Epoch: 8 Accuracy: 0.88\n"
          ]
        },
        {
          "output_type": "stream",
          "name": "stderr",
          "text": [
            "2022-11-11 02:03:31,072 Evaluator INFO: Epoch[1] Complete. Time taken: 00:00:01.948\n",
            "2022-11-11 02:03:31,073 Evaluator INFO: Engine run complete. Time taken: 00:00:01.950\n",
            "2022-11-11 02:03:31,076 trainer INFO: Epoch[8] Complete. Time taken: 00:00:18.449\n"
          ]
        },
        {
          "output_type": "stream",
          "name": "stdout",
          "text": [
            "Validation Results - Epoch: 8 Accuracy: 1.00\n",
            "EPOCH_COMPLETED took 8.845427989959717 seconds\n",
            "ITERATION - Loss: 0.17\n",
            "ITERATION - Loss: 0.04\n",
            "ITERATION - Loss: 0.17\n",
            "ITERATION - Loss: 0.24\n",
            "ITERATION - Loss: 0.12\n",
            "ITERATION - Loss: 0.03\n",
            "ITERATION - Loss: 0.18\n"
          ]
        },
        {
          "output_type": "stream",
          "name": "stderr",
          "text": [
            "2022-11-11 02:03:40,019 Evaluator INFO: Engine run starting with max_epochs=1.\n",
            "2022-11-11 02:03:48,561 Evaluator INFO: Epoch[1] Complete. Time taken: 00:00:08.541\n",
            "2022-11-11 02:03:48,563 Evaluator INFO: Engine run complete. Time taken: 00:00:08.543\n",
            "2022-11-11 02:03:48,568 Evaluator INFO: Engine run starting with max_epochs=1.\n"
          ]
        },
        {
          "output_type": "stream",
          "name": "stdout",
          "text": [
            "Training Results - Epoch: 9 Accuracy: 0.97\n"
          ]
        },
        {
          "output_type": "stream",
          "name": "stderr",
          "text": [
            "2022-11-11 02:03:50,518 Evaluator INFO: Epoch[1] Complete. Time taken: 00:00:01.946\n",
            "2022-11-11 02:03:50,520 Evaluator INFO: Engine run complete. Time taken: 00:00:01.948\n",
            "2022-11-11 02:03:50,524 trainer INFO: Epoch[9] Complete. Time taken: 00:00:19.446\n"
          ]
        },
        {
          "output_type": "stream",
          "name": "stdout",
          "text": [
            "Validation Results - Epoch: 9 Accuracy: 0.97\n",
            "EPOCH_COMPLETED took 8.940431118011475 seconds\n",
            "ITERATION - Loss: 0.18\n",
            "ITERATION - Loss: 0.26\n",
            "ITERATION - Loss: 0.20\n",
            "ITERATION - Loss: 0.27\n",
            "ITERATION - Loss: 0.11\n",
            "ITERATION - Loss: 0.17\n",
            "ITERATION - Loss: 0.07\n"
          ]
        },
        {
          "output_type": "stream",
          "name": "stderr",
          "text": [
            "2022-11-11 02:03:59,380 Evaluator INFO: Engine run starting with max_epochs=1.\n"
          ]
        },
        {
          "output_type": "stream",
          "name": "stdout",
          "text": [
            "ITERATION - Loss: 0.08\n"
          ]
        },
        {
          "output_type": "stream",
          "name": "stderr",
          "text": [
            "2022-11-11 02:04:07,127 Evaluator INFO: Epoch[1] Complete. Time taken: 00:00:07.743\n",
            "2022-11-11 02:04:07,129 Evaluator INFO: Engine run complete. Time taken: 00:00:07.745\n",
            "2022-11-11 02:04:07,134 Evaluator INFO: Engine run starting with max_epochs=1.\n"
          ]
        },
        {
          "output_type": "stream",
          "name": "stdout",
          "text": [
            "Training Results - Epoch: 10 Accuracy: 1.00\n"
          ]
        },
        {
          "output_type": "stream",
          "name": "stderr",
          "text": [
            "2022-11-11 02:04:09,022 Evaluator INFO: Epoch[1] Complete. Time taken: 00:00:01.885\n",
            "2022-11-11 02:04:09,023 Evaluator INFO: Engine run complete. Time taken: 00:00:01.887\n",
            "2022-11-11 02:04:09,028 trainer INFO: Epoch[10] Complete. Time taken: 00:00:18.501\n",
            "2022-11-11 02:04:09,033 trainer INFO: Engine run complete. Time taken: 00:03:09.642\n"
          ]
        },
        {
          "output_type": "stream",
          "name": "stdout",
          "text": [
            "Validation Results - Epoch: 10 Accuracy: 1.00\n",
            "EPOCH_COMPLETED took 8.852379322052002 seconds\n",
            "COMPLETED took 189.64156651496887 seconds\n"
          ]
        }
      ]
    },
    {
      "cell_type": "code",
      "source": [],
      "metadata": {
        "id": "qBoI-I99ZWim"
      },
      "execution_count": 8,
      "outputs": []
    }
  ]
}